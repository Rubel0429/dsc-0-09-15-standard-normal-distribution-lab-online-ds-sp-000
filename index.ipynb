{
 "cells": [
  {
   "cell_type": "markdown",
   "metadata": {},
   "source": [
    "# Standard Normal Distribution - Lab\n",
    "\n",
    "## Introduction\n",
    "\n",
    "In the previous lesson, we looked at the formula and a few toy examples to explain an observation's standard score and data standardization for normally distributed data. This lab, will shall standardize and visualize some normal distributions before we see standardization's real impact in machine learning in upcoming lessons. \n",
    "\n",
    "## Objectives\n",
    "\n",
    "You will be able to:\n",
    "\n",
    "* Calculate and interpret z-scores for observations\n",
    "* Visualize the data before-after standardization to visually inspect the results. \n",
    "\n",
    "## Let's get started\n",
    "\n",
    "> A Z-score tells us “how many standard deviations above or below the mean.” Every time you obtain a Z-score, use “above” or “below” in your phrasing."
   ]
  },
  {
   "cell_type": "markdown",
   "metadata": {},
   "source": [
    "The yields of apples trees in an orchard has been recorded in the file `yield.csv`. Each observation is recorded by weighing apples from trees (in pounds) and adding their weights. There are 5000 observations in total for this data. \n",
    "\n",
    "**1. Load, visualize and give general comments on the dataset. Use pandas for loading and inspecting the data.**"
   ]
  },
  {
   "cell_type": "code",
   "execution_count": 25,
   "metadata": {},
   "outputs": [
    {
     "data": {
      "text/plain": [
       "(array([  2.,   6.,   5.,  21.,  39.,  55.,  95., 129., 179., 283., 337.,\n",
       "        378., 457., 492., 465., 436., 419., 349., 265., 215., 128.,  99.,\n",
       "         73.,  33.,  16.,  17.,   5.,   1.,   0.,   1.]),\n",
       " array([21.93121221, 23.38511082, 24.83900943, 26.29290803, 27.74680664,\n",
       "        29.20070525, 30.65460385, 32.10850246, 33.56240107, 35.01629968,\n",
       "        36.47019828, 37.92409689, 39.3779955 , 40.8318941 , 42.28579271,\n",
       "        43.73969132, 45.19358992, 46.64748853, 48.10138714, 49.55528574,\n",
       "        51.00918435, 52.46308296, 53.91698157, 55.37088017, 56.82477878,\n",
       "        58.27867739, 59.73257599, 61.1864746 , 62.64037321, 64.09427181,\n",
       "        65.54817042]),\n",
       " <a list of 30 Patch objects>)"
      ]
     },
     "execution_count": 25,
     "metadata": {},
     "output_type": "execute_result"
    },
    {
     "data": {
      "image/png": "[encoded data removed]",
      "text/plain": [
       "<Figure size 432x288 with 1 Axes>"
      ]
     },
     "metadata": {
      "needs_background": "light"
     },
     "output_type": "display_data"
    }
   ],
   "source": [
    "# Import libraries\n",
    "import pandas as pd\n",
    "import matplotlib.pyplot as plt\n",
    "%matplotlib inline\n",
    "df = pd.read_csv(r\"C:\\Users\\rrubel\\Documents\\Materials\\section09\\dsc-0-09-15-standard-normal-distribution-lab-online-ds-sp-000\\yield.csv\")\n",
    "weights = list(df[\"0\"])\n",
    "plt.hist(weights, bins=30)"
   ]
  },
  {
   "cell_type": "code",
   "execution_count": 26,
   "metadata": {},
   "outputs": [
    {
     "name": "stdout",
     "output_type": "stream",
     "text": [
      "The data appears to be normally distributed.\n"
     ]
    }
   ],
   "source": [
    "# Your comments about the data here. \n",
    "# Read the yield data as a dataframe\n",
    "print(\"The data appears to be normally distributed.\")"
   ]
  },
  {
   "cell_type": "markdown",
   "metadata": {},
   "source": [
    "**2. Write a simple sentence to explain what does each value represent in this data?**"
   ]
  },
  {
   "cell_type": "code",
   "execution_count": 51,
   "metadata": {},
   "outputs": [
    {
     "name": "stdout",
     "output_type": "stream",
     "text": [
      "Each value respresents the weight of the yield of apples from a given tree\n"
     ]
    }
   ],
   "source": [
    "print(\"Each value respresents the weight of the yield of apples from a given tree\")"
   ]
  },
  {
   "cell_type": "markdown",
   "metadata": {},
   "source": [
    "**3. What does the 3-sigma rule say about yields of trees ?**"
   ]
  },
  {
   "cell_type": "code",
   "execution_count": 48,
   "metadata": {},
   "outputs": [],
   "source": [
    "import numpy as np\n",
    "w = round(np.mean(weights),3)\n",
    "s = round(np.std(weights),3)"
   ]
  },
  {
   "cell_type": "code",
   "execution_count": 50,
   "metadata": {},
   "outputs": [
    {
     "name": "stdout",
     "output_type": "stream",
     "text": [
      "Mean: 42.408\n",
      "Standard Deviation: 6.003\n",
      "According to the 3-sgma rule:\n",
      "68% of yields are between 36.405 and 48.411\n",
      "95% of yields are between 30.402 and 54.414\n",
      "99% of yields are between 24.399 and 60.417\n"
     ]
    }
   ],
   "source": [
    "print(\"Mean:\", w)\n",
    "print(\"Standard Deviation:\", s)\n",
    "print(\"According to the 3-sgma rule:\")\n",
    "print(\"68% of yields are between \" + str(w-(s)) + \" and \" + str(w+(s)))\n",
    "print(\"95% of yields are between \" + str(w-(s*2)) + \" and \" + str(w+(s*2)))\n",
    "print(\"99% of yields are between \" + str(w-(s*3)) + \" and \" + str(w+(s*3)))"
   ]
  },
  {
   "cell_type": "markdown",
   "metadata": {},
   "source": [
    "**4. Compute the Z-score for a tree yielding 35 pounds of apples. Interpret this Z-score.**"
   ]
  },
  {
   "cell_type": "code",
   "execution_count": 52,
   "metadata": {},
   "outputs": [
    {
     "data": {
      "text/plain": [
       "-1.234049641845744"
      ]
     },
     "execution_count": 52,
     "metadata": {},
     "output_type": "execute_result"
    }
   ],
   "source": [
    "z = (35-w)/s\n",
    "z"
   ]
  },
  {
   "cell_type": "code",
   "execution_count": 55,
   "metadata": {},
   "outputs": [
    {
     "name": "stdout",
     "output_type": "stream",
     "text": [
      "A z-score of -1.23 shows that this tree's yield is a little more than one standard deviation less than the average of the yield dataset.\n"
     ]
    }
   ],
   "source": [
    "print(\"A z-score of -1.23 shows that this tree's yield is a little more than one standard deviation less than the average of the yield dataset.\")\n",
    "\n"
   ]
  },
  {
   "cell_type": "markdown",
   "metadata": {},
   "source": [
    "**5. Suppose a tree has a Z-score of 1.85. Interpret this Z-score. What is the yield of this tree?**\n"
   ]
  },
  {
   "cell_type": "code",
   "execution_count": 60,
   "metadata": {},
   "outputs": [
    {
     "name": "stdout",
     "output_type": "stream",
     "text": [
      "A z-score of 1.85 means the tree's yield is almost two standard deviations greater than the average of the yield dataset.\n"
     ]
    }
   ],
   "source": [
    "print(\"A z-score of 1.85 means the tree's yield is almost two standard deviations greater than the average of the yield dataset.\")\n"
   ]
  },
  {
   "cell_type": "code",
   "execution_count": 61,
   "metadata": {},
   "outputs": [],
   "source": [
    "# Calculate yield\n",
    "z_of_tree = (1.85*s)+w"
   ]
  },
  {
   "cell_type": "code",
   "execution_count": 62,
   "metadata": {},
   "outputs": [
    {
     "data": {
      "text/plain": [
       "53.51355"
      ]
     },
     "execution_count": 62,
     "metadata": {},
     "output_type": "execute_result"
    }
   ],
   "source": [
    "# What is the yield ?\n",
    "z_of_tree"
   ]
  },
  {
   "cell_type": "markdown",
   "metadata": {},
   "source": [
    "**6. Convert each tree’s yield is converted to a Z-score so that “new” derived variable is “Z-score for weight”. The units are still the apple trees. For the data set of all Z-scores:**\n",
    "* What is the shape? \n",
    "* The mean? \n",
    "* The standard deviation?"
   ]
  },
  {
   "cell_type": "code",
   "execution_count": 70,
   "metadata": {},
   "outputs": [
    {
     "name": "stdout",
     "output_type": "stream",
     "text": [
      "-6.265904336362596e-05\n",
      "1.0000160095242934\n"
     ]
    },
    {
     "data": {
      "image/png": "[encoded data removed]",
      "text/plain": [
       "<Figure size 432x288 with 1 Axes>"
      ]
     },
     "metadata": {
      "needs_background": "light"
     },
     "output_type": "display_data"
    }
   ],
   "source": [
    "# Give your solution here\n",
    "z_list = []\n",
    "for weight in weights:\n",
    "    x = (weight-w)/s\n",
    "    z_list.append(x)\n",
    "plt.hist(z_list, bins=30)\n",
    "print(np.mean(z_list))\n",
    "print(np.std(z_list))"
   ]
  },
  {
   "cell_type": "code",
   "execution_count": 71,
   "metadata": {},
   "outputs": [
    {
     "name": "stdout",
     "output_type": "stream",
     "text": [
      "The shape of the distribution is the same as before the data was converted. The difference is the the distribution is centered at the mean (zero) and has a standard deviation of 1.\n"
     ]
    }
   ],
   "source": [
    "print(\"The shape of the distribution is the same as before the data was converted. The difference is the the distribution is centered at the mean (zero) and has a standard deviation of 1.\")\n"
   ]
  },
  {
   "cell_type": "markdown",
   "metadata": {},
   "source": [
    "## Summary \n",
    "\n",
    "In this lab, you practiced your knowledge on the standard normal distribution!"
   ]
  }
 ],
 "metadata": {
  "kernelspec": {
   "display_name": "Python 3",
   "language": "python",
   "name": "python3"
  },
  "language_info": {
   "codemirror_mode": {
    "name": "ipython",
    "version": 3
   },
   "file_extension": ".py",
   "mimetype": "text/x-python",
   "name": "python",
   "nbconvert_exporter": "python",
   "pygments_lexer": "ipython3",
   "version": "3.7.0"
  }
 },
 "nbformat": 4,
 "nbformat_minor": 2
}
